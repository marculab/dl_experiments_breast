{
 "cells": [
  {
   "cell_type": "code",
   "execution_count": 1,
   "metadata": {},
   "outputs": [
    {
     "name": "stderr",
     "output_type": "stream",
     "text": [
      "Using TensorFlow backend.\n"
     ]
    }
   ],
   "source": [
    "# imports\n",
    "from pathlib import Path\n",
    "import numpy as np\n",
    "from scipy.signal import resample\n",
    "import keras\n",
    "from keras.models import Sequential, Model\n",
    "from keras.layers import Dense, Activation, Flatten, Convolution1D, Dropout, BatchNormalization, MaxPooling1D, AveragePooling1D\n",
    "from keras import regularizers\n",
    "from keras import initializers\n",
    "from keras.optimizers import Adam, SGD, Adagrad\n",
    "from keras.utils import np_utils\n",
    "from keras.callbacks import TensorBoard"
   ]
  },
  {
   "cell_type": "markdown",
   "metadata": {},
   "source": [
    "## try fully connceted networks."
   ]
  },
  {
   "cell_type": "code",
   "execution_count": 2,
   "metadata": {},
   "outputs": [],
   "source": [
    "## data loading\n",
    "## data loading\n",
    "datapath = Path('../dataset')\n",
    "xfile = 'X_features_spec.npy'\n",
    "yfile = 'Y_labels_spec.npy'\n",
    "def load_waveforms():\n",
    "    X_list = np.load(str(datapath.joinpath(xfile)))\n",
    "    Y_list = np.load(str(datapath.joinpath(yfile)))\n",
    "    return X_list, Y_list\n",
    "\n",
    "def positve_samples(xlist):\n",
    "    ## some samples have negative signs\n",
    "    xl_new = []\n",
    "    for sample in range(xlist.shape[0]):\n",
    "        points = xlist[sample]\n",
    "        for p in range(points.shape[0]):\n",
    "            point = points[p]\n",
    "            if np.sum(point) < 0:\n",
    "                points[p] = -point\n",
    "        xl_new.append(points)\n",
    "    return np.array(xl_new)\n",
    "\n",
    "## apply to loaded dataset\n",
    "def split_by_channel(xlist):\n",
    "    ## input as (n, 2500)\n",
    "    def standard_resample(arr):\n",
    "        return resample(arr, 2500)\n",
    "    ## if some is not with dim 625, resample it\n",
    "    xl_new = []\n",
    "    for sample in range(xlist.shape[0]):\n",
    "        points = xlist[sample]\n",
    "        if points.shape[1] != 2500:\n",
    "            print(\"resample\")\n",
    "            print(points.shape)\n",
    "            points = np.apply_along_axis(standard_resample, axis=1, arr=points)\n",
    "        points = points.reshape((points.shape[0], 625, 4))\n",
    "        xl_new.append(points)\n",
    "    return np.array(xl_new)\n",
    "\n",
    "## input is after split\n",
    "def apply_resample(xlist, outdim):\n",
    "    ## resample\n",
    "    def resample_waveform(arr):\n",
    "        ## arr.shape: (indim, )\n",
    "        return resample(arr, outdim)\n",
    "    xl_new = []\n",
    "    for sample in range(xlist.shape[0]):\n",
    "        points = xlist[sample]\n",
    "        points = np.apply_along_axis(resample_waveform, axis=1, arr=points)\n",
    "        xl_new.append(points)\n",
    "    return np.array(xl_new)\n",
    "\n",
    "## input is combined exp. (18000 ,625, 4)\n",
    "def get_xtrain_mean(x_train):\n",
    "    ## mean value for each dimension (exp. each of 625 dim)\n",
    "    m = np.mean(x_train, axis=0)\n",
    "    ## then we can apply x_train - m for zero mean\n",
    "    return m\n",
    "\n",
    "## input is after split\n",
    "## one variance for each channel\n",
    "def normalize_waveform():\n",
    "    ## we don't necessarily need this\n",
    "    pass\n",
    "\n",
    "def combine_samples(arrs):\n",
    "    ## exp. arrs.shape: (20, ?)\n",
    "    pass\n",
    "\n",
    "def binary_label(ylist):\n",
    "    ## 1, 2 --> 1\n",
    "    ylist_new = []\n",
    "    for sample in range(ylist.shape[0]):\n",
    "        labels = ylist[sample]\n",
    "        labels[labels > 1] = 1\n",
    "        ylist_new.append(labels)\n",
    "    return np.array(ylist_new)\n",
    "\n",
    "def combine_samples(arrs):\n",
    "    ## exp. arrs.shape: (20, ?)\n",
    "    if arrs.shape[0] < 1:\n",
    "        return arrs\n",
    "    sp = list(arrs[0].shape)\n",
    "    sp[0] = 0\n",
    "    combined = np.zeros(sp)\n",
    "    print(\"combinde\", combined.shape)\n",
    "    for sample in range(arrs.shape[0]):\n",
    "        arr = arrs[sample]\n",
    "        combined = np.concatenate((combined, arr), axis=0)\n",
    "    return combined"
   ]
  },
  {
   "cell_type": "code",
   "execution_count": 3,
   "metadata": {},
   "outputs": [],
   "source": [
    "## global parameters"
   ]
  },
  {
   "cell_type": "code",
   "execution_count": 4,
   "metadata": {},
   "outputs": [],
   "source": [
    "## one time parameter for the model below\n",
    "## regularizer\n",
    "## l2\n",
    "ker_reg = 0.1\n",
    "act_reg = 0.1\n",
    "## kernel_initializer\n",
    "ker_init = initializers.glorot_normal(seed=None)\n",
    "## shape\n",
    "in_shape = (648, 4)\n",
    "## learning rate\n",
    "opt = Adam()\n",
    "opt.lr = 0.0001\n",
    "##\n",
    "OUTPUT_SIZE = 2\n",
    "##\n",
    "epochs = 20\n",
    "## callback\n",
    "model_callback = TensorBoard(log_dir='./logs', histogram_freq=0, write_graph=True, write_images=False)"
   ]
  },
  {
   "cell_type": "markdown",
   "metadata": {},
   "source": [
    "this time, add a conv layer with bigger kernel size and stride at first --> more generalized?"
   ]
  },
  {
   "cell_type": "code",
   "execution_count": 5,
   "metadata": {},
   "outputs": [],
   "source": [
    "## model\n",
    "## resample data to 640 * 4\n",
    "model = Sequential()\n",
    "model.add(Dense(500, activation='relu', input_shape=in_shape))\n",
    "model.add(Dense(300, activation='relu'))\n",
    "model.add(Dense(100, activation='relu'))\n",
    "model.add(Flatten())\n",
    "## fully connected\n",
    "model.add(Dense(OUTPUT_SIZE))\n",
    "## softmax\n",
    "model.add(Activation('softmax'))"
   ]
  },
  {
   "cell_type": "code",
   "execution_count": 6,
   "metadata": {},
   "outputs": [
    {
     "name": "stdout",
     "output_type": "stream",
     "text": [
      "_________________________________________________________________\n",
      "Layer (type)                 Output Shape              Param #   \n",
      "=================================================================\n",
      "dense_1 (Dense)              (None, 648, 500)          2500      \n",
      "_________________________________________________________________\n",
      "dense_2 (Dense)              (None, 648, 300)          150300    \n",
      "_________________________________________________________________\n",
      "dense_3 (Dense)              (None, 648, 100)          30100     \n",
      "_________________________________________________________________\n",
      "flatten_1 (Flatten)          (None, 64800)             0         \n",
      "_________________________________________________________________\n",
      "dense_4 (Dense)              (None, 2)                 129602    \n",
      "_________________________________________________________________\n",
      "activation_1 (Activation)    (None, 2)                 0         \n",
      "=================================================================\n",
      "Total params: 312,502\n",
      "Trainable params: 312,502\n",
      "Non-trainable params: 0\n",
      "_________________________________________________________________\n",
      "None\n"
     ]
    }
   ],
   "source": [
    "model.compile(loss='categorical_crossentropy', optimizer=opt, metrics=['accuracy'])\n",
    "print(model.summary())"
   ]
  },
  {
   "cell_type": "code",
   "execution_count": 7,
   "metadata": {},
   "outputs": [
    {
     "name": "stdout",
     "output_type": "stream",
     "text": [
      "resample\n",
      "(2490, 1920)\n",
      "resample\n",
      "(878, 1920)\n",
      "(2394, 648, 4)\n",
      "(4144, 648, 4)\n",
      "(3302, 648, 4)\n",
      "(1272, 648, 4)\n",
      "(389, 648, 4)\n",
      "(2716, 648, 4)\n",
      "(61, 648, 4)\n",
      "(628, 648, 4)\n",
      "(611, 648, 4)\n",
      "(771, 648, 4)\n",
      "(201, 648, 4)\n",
      "(1354, 648, 4)\n",
      "(2490, 648, 4)\n",
      "(878, 648, 4)\n",
      "(2506, 648, 4)\n",
      "(1688, 648, 4)\n",
      "(2067, 648, 4)\n",
      "(1554, 648, 4)\n",
      "(635, 648, 4)\n",
      "(1439, 648, 4)\n"
     ]
    }
   ],
   "source": [
    "## experiment\n",
    "## case 12, 14 for test\n",
    "## case 18 for validation\n",
    "## other case for traning\n",
    "x_list, y_list = load_waveforms()\n",
    "x_list = positve_samples(x_list)\n",
    "x_list = split_by_channel(x_list)\n",
    "x_list = apply_resample(x_list, 648)\n",
    "y_list = binary_label(y_list)\n",
    "for i in range(x_list.shape[0]):\n",
    "    print(x_list[i].shape)"
   ]
  },
  {
   "cell_type": "code",
   "execution_count": 8,
   "metadata": {},
   "outputs": [
    {
     "name": "stdout",
     "output_type": "stream",
     "text": [
      "combinde (0, 648, 4)\n",
      "combinde (0,)\n",
      "combinde (0, 648, 4)\n",
      "combinde (0,)\n",
      "combinde (0, 648, 4)\n",
      "combinde (0,)\n"
     ]
    }
   ],
   "source": [
    "val_idx = [17]\n",
    "test_idx = [11, 13]\n",
    "train_list_x = []\n",
    "train_list_y = []\n",
    "val_list_x = []\n",
    "val_list_y = []\n",
    "test_list_x = []\n",
    "test_list_y = []\n",
    "for idx in range(x_list.shape[0]):\n",
    "    if idx not in (val_idx + test_idx):\n",
    "        train_list_x.append(x_list[idx])\n",
    "        train_list_y.append(y_list[idx])\n",
    "        \n",
    "for idx in val_idx:\n",
    "    val_list_x.append(x_list[idx])\n",
    "    val_list_y.append(y_list[idx])\n",
    "    \n",
    "for idx in test_idx:\n",
    "    test_list_x.append(x_list[idx])\n",
    "    test_list_y.append(y_list[idx])  \n",
    "\n",
    "train_list_x = np.array(train_list_x)\n",
    "train_list_y = np.array(train_list_y)\n",
    "val_list_x = np.array(val_list_x)\n",
    "val_list_y = np.array(val_list_y)\n",
    "test_list_x = np.array(test_list_x)\n",
    "test_list_y = np.array(test_list_y)\n",
    "train_list_x = combine_samples(train_list_x)\n",
    "train_list_y = combine_samples(train_list_y)\n",
    "val_list_x = combine_samples(val_list_x)\n",
    "val_list_y = combine_samples(val_list_y)\n",
    "test_list_x = combine_samples(test_list_x)\n",
    "test_list_y = combine_samples(test_list_y)\n",
    "train_list_y = np_utils.to_categorical(train_list_y, num_classes=2)\n",
    "val_list_y = np_utils.to_categorical(val_list_y, num_classes=2)\n",
    "test_list_y = np_utils.to_categorical(test_list_y, num_classes=2)"
   ]
  },
  {
   "cell_type": "code",
   "execution_count": 9,
   "metadata": {},
   "outputs": [
    {
     "name": "stdout",
     "output_type": "stream",
     "text": [
      "Train on 27314 samples, validate on 1554 samples\n",
      "Epoch 1/20\n",
      " - 13s - loss: 0.2405 - acc: 0.9131 - val_loss: 0.6429 - val_acc: 0.7625\n",
      "Epoch 2/20\n",
      " - 13s - loss: 0.1615 - acc: 0.9441 - val_loss: 0.5528 - val_acc: 0.7767\n",
      "Epoch 3/20\n",
      " - 13s - loss: 0.1508 - acc: 0.9461 - val_loss: 0.5885 - val_acc: 0.7806\n",
      "Epoch 4/20\n",
      " - 13s - loss: 0.1431 - acc: 0.9501 - val_loss: 0.8082 - val_acc: 0.7381\n",
      "Epoch 5/20\n",
      " - 13s - loss: 0.1391 - acc: 0.9507 - val_loss: 0.5637 - val_acc: 0.7915\n",
      "Epoch 6/20\n",
      " - 13s - loss: 0.1370 - acc: 0.9502 - val_loss: 0.5967 - val_acc: 0.7696\n",
      "Epoch 7/20\n",
      " - 13s - loss: 0.1329 - acc: 0.9524 - val_loss: 0.6618 - val_acc: 0.7548\n",
      "Epoch 8/20\n",
      " - 13s - loss: 0.1321 - acc: 0.9519 - val_loss: 0.6056 - val_acc: 0.7934\n",
      "Epoch 9/20\n",
      " - 13s - loss: 0.1291 - acc: 0.9531 - val_loss: 0.7676 - val_acc: 0.7297\n",
      "Epoch 10/20\n",
      " - 13s - loss: 0.1247 - acc: 0.9546 - val_loss: 0.7528 - val_acc: 0.7400\n",
      "Epoch 11/20\n",
      " - 13s - loss: 0.1263 - acc: 0.9542 - val_loss: 0.6783 - val_acc: 0.7735\n",
      "Epoch 12/20\n",
      " - 13s - loss: 0.1226 - acc: 0.9552 - val_loss: 1.2294 - val_acc: 0.6924\n",
      "Epoch 13/20\n",
      " - 13s - loss: 0.1188 - acc: 0.9558 - val_loss: 0.5853 - val_acc: 0.7864\n",
      "Epoch 14/20\n",
      " - 13s - loss: 0.1193 - acc: 0.9560 - val_loss: 0.5912 - val_acc: 0.8005\n",
      "Epoch 15/20\n",
      " - 13s - loss: 0.1156 - acc: 0.9573 - val_loss: 0.8770 - val_acc: 0.7194\n",
      "Epoch 16/20\n",
      " - 13s - loss: 0.1146 - acc: 0.9577 - val_loss: 0.7141 - val_acc: 0.7587\n",
      "Epoch 17/20\n",
      " - 13s - loss: 0.1119 - acc: 0.9586 - val_loss: 0.8418 - val_acc: 0.7381\n",
      "Epoch 18/20\n",
      " - 13s - loss: 0.1118 - acc: 0.9584 - val_loss: 0.6214 - val_acc: 0.7915\n",
      "Epoch 19/20\n",
      " - 13s - loss: 0.1094 - acc: 0.9603 - val_loss: 0.6847 - val_acc: 0.7741\n",
      "Epoch 20/20\n",
      " - 13s - loss: 0.1078 - acc: 0.9610 - val_loss: 0.8173 - val_acc: 0.7523\n"
     ]
    },
    {
     "data": {
      "text/plain": [
       "<keras.callbacks.History at 0x7fff62790e80>"
      ]
     },
     "execution_count": 9,
     "metadata": {},
     "output_type": "execute_result"
    }
   ],
   "source": [
    "model.fit(train_list_x, train_list_y,\n",
    "          epochs=epochs,\n",
    "          verbose=2,\n",
    "          validation_data=(val_list_x, val_list_y),\n",
    "          callbacks=[model_callback])"
   ]
  },
  {
   "cell_type": "code",
   "execution_count": 11,
   "metadata": {},
   "outputs": [
    {
     "name": "stdout",
     "output_type": "stream",
     "text": [
      "2232/2232 [==============================] - 0s 213us/step\n",
      "loss 2.242920946903981 acc 0.3068996416304701\n"
     ]
    }
   ],
   "source": [
    "loss, acc = model.evaluate(test_list_x, test_list_y)\n",
    "print(\"loss\", loss, \"acc\", acc)"
   ]
  },
  {
   "cell_type": "code",
   "execution_count": null,
   "metadata": {},
   "outputs": [],
   "source": []
  }
 ],
 "metadata": {
  "kernelspec": {
   "display_name": "simpletensor",
   "language": "python",
   "name": "simpletensor"
  },
  "language_info": {
   "codemirror_mode": {
    "name": "ipython",
    "version": 3
   },
   "file_extension": ".py",
   "mimetype": "text/x-python",
   "name": "python",
   "nbconvert_exporter": "python",
   "pygments_lexer": "ipython3",
   "version": "3.5.2"
  }
 },
 "nbformat": 4,
 "nbformat_minor": 2
}
